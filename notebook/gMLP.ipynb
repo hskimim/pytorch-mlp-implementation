{
 "cells": [
  {
   "cell_type": "code",
   "execution_count": 1,
   "metadata": {
    "ExecuteTime": {
     "end_time": "2022-02-28T03:37:08.233473Z",
     "start_time": "2022-02-28T03:37:08.228277Z"
    }
   },
   "outputs": [],
   "source": [
    "import sys\n",
    "sys.path.append(\"..\")"
   ]
  },
  {
   "cell_type": "code",
   "execution_count": 2,
   "metadata": {
    "ExecuteTime": {
     "end_time": "2022-02-28T03:37:09.688700Z",
     "start_time": "2022-02-28T03:37:08.240792Z"
    }
   },
   "outputs": [],
   "source": [
    "from tqdm.notebook import tqdm\n",
    "\n",
    "from mlp_mixer.dataset.iterator import ImageNetIterator\n",
    "from gmlp.layer.model import Gmlp\n",
    "from torch.utils.data import DataLoader\n",
    "\n",
    "import torch\n",
    "import torch.nn as nn\n",
    "import torch.optim as optim"
   ]
  },
  {
   "cell_type": "code",
   "execution_count": 3,
   "metadata": {
    "ExecuteTime": {
     "end_time": "2022-02-28T03:37:10.415791Z",
     "start_time": "2022-02-28T03:37:09.691096Z"
    }
   },
   "outputs": [],
   "source": [
    "train_iter = ImageNetIterator(root='../../imagenet/',\n",
    "                 height=256,\n",
    "                 width=256,\n",
    "                 is_train=True,\n",
    "                 in_memory=False,\n",
    "                 verbose=False)\n",
    "\n",
    "test_iter = ImageNetIterator(root='../../imagenet/',\n",
    "                 height=256,\n",
    "                 width=256,\n",
    "                 is_train=True,\n",
    "                 in_memory=False,\n",
    "                 verbose=False)\n",
    "\n",
    "train_loader = DataLoader(train_iter, batch_size=64*2, shuffle=True, num_workers=10)\n",
    "valid_loader = DataLoader(test_iter, batch_size=64*2, shuffle=False, num_workers=10)"
   ]
  },
  {
   "cell_type": "code",
   "execution_count": 4,
   "metadata": {
    "ExecuteTime": {
     "end_time": "2022-02-28T03:37:10.426731Z",
     "start_time": "2022-02-28T03:37:10.420786Z"
    }
   },
   "outputs": [],
   "source": [
    "h, w, c = 256, 256, 3\n",
    "p = 32\n",
    "s = (h*w)//(p**2)"
   ]
  },
  {
   "cell_type": "code",
   "execution_count": 5,
   "metadata": {
    "ExecuteTime": {
     "end_time": "2022-02-28T03:37:14.987420Z",
     "start_time": "2022-02-28T03:37:10.430925Z"
    }
   },
   "outputs": [],
   "source": [
    "device = torch.device(\"cuda\" if torch.cuda.is_available() else 'cpu')\n",
    "model = nn.DataParallel(Gmlp(h, w, c, p, s, 128, 128*4, 6, len(train_iter.label_dict)).to(device))"
   ]
  },
  {
   "cell_type": "code",
   "execution_count": 6,
   "metadata": {
    "ExecuteTime": {
     "end_time": "2022-02-28T03:37:14.998553Z",
     "start_time": "2022-02-28T03:37:14.992959Z"
    }
   },
   "outputs": [],
   "source": [
    "optimizer = optim.Adam(model.parameters())\n",
    "criterion = nn.CrossEntropyLoss()"
   ]
  },
  {
   "cell_type": "code",
   "execution_count": 7,
   "metadata": {
    "ExecuteTime": {
     "end_time": "2022-02-28T03:37:15.010752Z",
     "start_time": "2022-02-28T03:37:15.001338Z"
    }
   },
   "outputs": [],
   "source": [
    "# torch.autograd.set_detect_anomaly(True)\n",
    "\n",
    "def train() : \n",
    "    model.train()\n",
    "    losses = []\n",
    "    accuracies = []\n",
    "\n",
    "    for x,y in tqdm(train_loader, desc='train') : \n",
    "        pred = model(x.to(device))\n",
    "\n",
    "        optimizer.zero_grad()\n",
    "        loss = criterion(pred, y.to(device))\n",
    "        loss.backward()\n",
    "        optimizer.step()\n",
    "\n",
    "        correct = (torch.argmax(pred, dim=1) == y.to(device)).sum()\n",
    "        acc = correct.item() / y.shape[0]\n",
    "\n",
    "        accuracies.append(acc)\n",
    "        losses.append(loss.item())\n",
    "\n",
    "    agg_acc = sum(accuracies) / len(accuracies)\n",
    "    agg_loss = sum(losses) / len(losses)\n",
    "    return agg_acc, agg_loss\n",
    "\n",
    "def evalulate() : \n",
    "    model.eval()\n",
    "    losses = []\n",
    "    accuracies = []\n",
    "\n",
    "    for x,y in tqdm(valid_loader, desc='valid') : \n",
    "        pred = model(x.to(device))\n",
    "\n",
    "        loss = criterion(pred, y.to(device))\n",
    "        correct = (torch.argmax(pred, dim=1) == y.to(device)).sum()\n",
    "        acc = correct.item() / y.shape[0]\n",
    "\n",
    "        accuracies.append(acc)\n",
    "        losses.append(loss.item())\n",
    "\n",
    "    agg_acc = sum(accuracies) / len(accuracies)\n",
    "    agg_loss = sum(losses) / len(losses)\n",
    "    return agg_acc, agg_loss"
   ]
  },
  {
   "cell_type": "code",
   "execution_count": 8,
   "metadata": {
    "ExecuteTime": {
     "end_time": "2022-02-28T05:38:26.720215Z",
     "start_time": "2022-02-28T03:37:15.012791Z"
    },
    "scrolled": true
   },
   "outputs": [
    {
     "data": {
      "application/vnd.jupyter.widget-view+json": {
       "model_id": "e47cdc536a1c4844a0007ab01c778d5f",
       "version_major": 2,
       "version_minor": 0
      },
      "text/plain": [
       "train:   0%|          | 0/600 [00:00<?, ?it/s]"
      ]
     },
     "metadata": {},
     "output_type": "display_data"
    },
    {
     "data": {
      "application/vnd.jupyter.widget-view+json": {
       "model_id": "4faddf26df6b47af8e445278f9560cf1",
       "version_major": 2,
       "version_minor": 0
      },
      "text/plain": [
       "valid:   0%|          | 0/600 [00:00<?, ?it/s]"
      ]
     },
     "metadata": {},
     "output_type": "display_data"
    },
    {
     "name": "stdout",
     "output_type": "stream",
     "text": [
      "\n",
      "                            === 1th Epoch ===\n",
      "    \n",
      "        Train Loss : 50.954 | Train Acc : 0.009\n",
      "        Valid Loss : 5.238 | Valid Acc : 0.01\n",
      "        \n",
      "        ============================================\n",
      "        ============================================\n",
      "    \n"
     ]
    },
    {
     "data": {
      "application/vnd.jupyter.widget-view+json": {
       "model_id": "a52968e94e754253a895cbe0e7765c8e",
       "version_major": 2,
       "version_minor": 0
      },
      "text/plain": [
       "train:   0%|          | 0/600 [00:00<?, ?it/s]"
      ]
     },
     "metadata": {},
     "output_type": "display_data"
    },
    {
     "data": {
      "application/vnd.jupyter.widget-view+json": {
       "model_id": "f298b65967a245bb91b255b8eab42ea3",
       "version_major": 2,
       "version_minor": 0
      },
      "text/plain": [
       "valid:   0%|          | 0/600 [00:00<?, ?it/s]"
      ]
     },
     "metadata": {},
     "output_type": "display_data"
    },
    {
     "name": "stdout",
     "output_type": "stream",
     "text": [
      "\n",
      "                            === 2th Epoch ===\n",
      "    \n",
      "        Train Loss : 5.223 | Train Acc : 0.009\n",
      "        Valid Loss : 5.289 | Valid Acc : 0.009\n",
      "        \n",
      "        ============================================\n",
      "        ============================================\n",
      "    \n"
     ]
    },
    {
     "data": {
      "application/vnd.jupyter.widget-view+json": {
       "model_id": "3b3db832113b41a08d54077389f9c4e7",
       "version_major": 2,
       "version_minor": 0
      },
      "text/plain": [
       "train:   0%|          | 0/600 [00:00<?, ?it/s]"
      ]
     },
     "metadata": {},
     "output_type": "display_data"
    },
    {
     "data": {
      "application/vnd.jupyter.widget-view+json": {
       "model_id": "97e1ded125a240bcb15761fe71c078c8",
       "version_major": 2,
       "version_minor": 0
      },
      "text/plain": [
       "valid:   0%|          | 0/600 [00:00<?, ?it/s]"
      ]
     },
     "metadata": {},
     "output_type": "display_data"
    },
    {
     "name": "stdout",
     "output_type": "stream",
     "text": [
      "\n",
      "                            === 3th Epoch ===\n",
      "    \n",
      "        Train Loss : 4.931 | Train Acc : 0.009\n",
      "        Valid Loss : 4.837 | Valid Acc : 0.012\n",
      "        \n",
      "        ============================================\n",
      "        ============================================\n",
      "    \n"
     ]
    },
    {
     "data": {
      "application/vnd.jupyter.widget-view+json": {
       "model_id": "a9575765f04c48ce96785bd5c90ce696",
       "version_major": 2,
       "version_minor": 0
      },
      "text/plain": [
       "train:   0%|          | 0/600 [00:00<?, ?it/s]"
      ]
     },
     "metadata": {},
     "output_type": "display_data"
    },
    {
     "data": {
      "application/vnd.jupyter.widget-view+json": {
       "model_id": "725eb5a745374ac987680618d098327c",
       "version_major": 2,
       "version_minor": 0
      },
      "text/plain": [
       "valid:   0%|          | 0/600 [00:00<?, ?it/s]"
      ]
     },
     "metadata": {},
     "output_type": "display_data"
    },
    {
     "name": "stdout",
     "output_type": "stream",
     "text": [
      "\n",
      "                            === 4th Epoch ===\n",
      "    \n",
      "        Train Loss : 4.824 | Train Acc : 0.01\n",
      "        Valid Loss : 4.787 | Valid Acc : 0.011\n",
      "        \n",
      "        ============================================\n",
      "        ============================================\n",
      "    \n"
     ]
    },
    {
     "data": {
      "application/vnd.jupyter.widget-view+json": {
       "model_id": "567d89f6a155429ea54ad0c4784ba80d",
       "version_major": 2,
       "version_minor": 0
      },
      "text/plain": [
       "train:   0%|          | 0/600 [00:00<?, ?it/s]"
      ]
     },
     "metadata": {},
     "output_type": "display_data"
    },
    {
     "data": {
      "application/vnd.jupyter.widget-view+json": {
       "model_id": "ebe903188bba465baac49dba6bb36d4f",
       "version_major": 2,
       "version_minor": 0
      },
      "text/plain": [
       "valid:   0%|          | 0/600 [00:00<?, ?it/s]"
      ]
     },
     "metadata": {},
     "output_type": "display_data"
    },
    {
     "name": "stdout",
     "output_type": "stream",
     "text": [
      "\n",
      "                            === 5th Epoch ===\n",
      "    \n",
      "        Train Loss : 4.764 | Train Acc : 0.013\n",
      "        Valid Loss : 4.751 | Valid Acc : 0.014\n",
      "        \n",
      "        ============================================\n",
      "        ============================================\n",
      "    \n"
     ]
    },
    {
     "data": {
      "application/vnd.jupyter.widget-view+json": {
       "model_id": "cabc4aec1ad844d195fcd46afbcab104",
       "version_major": 2,
       "version_minor": 0
      },
      "text/plain": [
       "train:   0%|          | 0/600 [00:00<?, ?it/s]"
      ]
     },
     "metadata": {},
     "output_type": "display_data"
    },
    {
     "data": {
      "application/vnd.jupyter.widget-view+json": {
       "model_id": "e6bb0d2092964202b55fb829430c42a7",
       "version_major": 2,
       "version_minor": 0
      },
      "text/plain": [
       "valid:   0%|          | 0/600 [00:00<?, ?it/s]"
      ]
     },
     "metadata": {},
     "output_type": "display_data"
    },
    {
     "name": "stdout",
     "output_type": "stream",
     "text": [
      "\n",
      "                            === 6th Epoch ===\n",
      "    \n",
      "        Train Loss : 4.752 | Train Acc : 0.014\n",
      "        Valid Loss : 4.751 | Valid Acc : 0.013\n",
      "        \n",
      "        ============================================\n",
      "        ============================================\n",
      "    \n"
     ]
    },
    {
     "data": {
      "application/vnd.jupyter.widget-view+json": {
       "model_id": "288de26801604783bdb0302d6fa7ee6a",
       "version_major": 2,
       "version_minor": 0
      },
      "text/plain": [
       "train:   0%|          | 0/600 [00:00<?, ?it/s]"
      ]
     },
     "metadata": {},
     "output_type": "display_data"
    },
    {
     "data": {
      "application/vnd.jupyter.widget-view+json": {
       "model_id": "401a972716344746805fd1cf544fb7a8",
       "version_major": 2,
       "version_minor": 0
      },
      "text/plain": [
       "valid:   0%|          | 0/600 [00:00<?, ?it/s]"
      ]
     },
     "metadata": {},
     "output_type": "display_data"
    },
    {
     "name": "stdout",
     "output_type": "stream",
     "text": [
      "\n",
      "                            === 7th Epoch ===\n",
      "    \n",
      "        Train Loss : 4.74 | Train Acc : 0.014\n",
      "        Valid Loss : 4.729 | Valid Acc : 0.015\n",
      "        \n",
      "        ============================================\n",
      "        ============================================\n",
      "    \n"
     ]
    },
    {
     "data": {
      "application/vnd.jupyter.widget-view+json": {
       "model_id": "155bde30e4094b4da7e21a3518a9dd54",
       "version_major": 2,
       "version_minor": 0
      },
      "text/plain": [
       "train:   0%|          | 0/600 [00:00<?, ?it/s]"
      ]
     },
     "metadata": {},
     "output_type": "display_data"
    },
    {
     "data": {
      "application/vnd.jupyter.widget-view+json": {
       "model_id": "c5149b0a4a1648d1a06333810954e855",
       "version_major": 2,
       "version_minor": 0
      },
      "text/plain": [
       "valid:   0%|          | 0/600 [00:00<?, ?it/s]"
      ]
     },
     "metadata": {},
     "output_type": "display_data"
    },
    {
     "name": "stdout",
     "output_type": "stream",
     "text": [
      "\n",
      "                            === 8th Epoch ===\n",
      "    \n",
      "        Train Loss : 4.728 | Train Acc : 0.017\n",
      "        Valid Loss : 4.736 | Valid Acc : 0.017\n",
      "        \n",
      "        ============================================\n",
      "        ============================================\n",
      "    \n"
     ]
    },
    {
     "data": {
      "application/vnd.jupyter.widget-view+json": {
       "model_id": "1f690ff028804440b00e55a93c721be8",
       "version_major": 2,
       "version_minor": 0
      },
      "text/plain": [
       "train:   0%|          | 0/600 [00:00<?, ?it/s]"
      ]
     },
     "metadata": {},
     "output_type": "display_data"
    },
    {
     "data": {
      "application/vnd.jupyter.widget-view+json": {
       "model_id": "5208a80bcda548d29f1190718d6228cd",
       "version_major": 2,
       "version_minor": 0
      },
      "text/plain": [
       "valid:   0%|          | 0/600 [00:00<?, ?it/s]"
      ]
     },
     "metadata": {},
     "output_type": "display_data"
    },
    {
     "name": "stdout",
     "output_type": "stream",
     "text": [
      "\n",
      "                            === 9th Epoch ===\n",
      "    \n",
      "        Train Loss : 4.747 | Train Acc : 0.015\n",
      "        Valid Loss : 4.733 | Valid Acc : 0.018\n",
      "        \n",
      "        ============================================\n",
      "        ============================================\n",
      "    \n"
     ]
    },
    {
     "data": {
      "application/vnd.jupyter.widget-view+json": {
       "model_id": "bef3c5450d66416996c90e4a184d331a",
       "version_major": 2,
       "version_minor": 0
      },
      "text/plain": [
       "train:   0%|          | 0/600 [00:00<?, ?it/s]"
      ]
     },
     "metadata": {},
     "output_type": "display_data"
    },
    {
     "data": {
      "application/vnd.jupyter.widget-view+json": {
       "model_id": "186c772cca12480f881211d2d6975079",
       "version_major": 2,
       "version_minor": 0
      },
      "text/plain": [
       "valid:   0%|          | 0/600 [00:00<?, ?it/s]"
      ]
     },
     "metadata": {},
     "output_type": "display_data"
    },
    {
     "name": "stdout",
     "output_type": "stream",
     "text": [
      "\n",
      "                            === 10th Epoch ===\n",
      "    \n",
      "        Train Loss : 4.793 | Train Acc : 0.012\n",
      "        Valid Loss : 4.734 | Valid Acc : 0.014\n",
      "        \n",
      "        ============================================\n",
      "        ============================================\n",
      "    \n"
     ]
    },
    {
     "data": {
      "application/vnd.jupyter.widget-view+json": {
       "model_id": "395dfbc9c2fe4e91a38fce1a6f4b6d1e",
       "version_major": 2,
       "version_minor": 0
      },
      "text/plain": [
       "train:   0%|          | 0/600 [00:00<?, ?it/s]"
      ]
     },
     "metadata": {},
     "output_type": "display_data"
    },
    {
     "data": {
      "application/vnd.jupyter.widget-view+json": {
       "model_id": "f9b2b388ae264c7c843da786f784f485",
       "version_major": 2,
       "version_minor": 0
      },
      "text/plain": [
       "valid:   0%|          | 0/600 [00:00<?, ?it/s]"
      ]
     },
     "metadata": {},
     "output_type": "display_data"
    },
    {
     "name": "stdout",
     "output_type": "stream",
     "text": [
      "\n",
      "                            === 11th Epoch ===\n",
      "    \n",
      "        Train Loss : 4.718 | Train Acc : 0.018\n",
      "        Valid Loss : 4.706 | Valid Acc : 0.018\n",
      "        \n",
      "        ============================================\n",
      "        ============================================\n",
      "    \n"
     ]
    },
    {
     "data": {
      "application/vnd.jupyter.widget-view+json": {
       "model_id": "1e36322a5f634833bdb27af0425a2fd2",
       "version_major": 2,
       "version_minor": 0
      },
      "text/plain": [
       "train:   0%|          | 0/600 [00:00<?, ?it/s]"
      ]
     },
     "metadata": {},
     "output_type": "display_data"
    },
    {
     "data": {
      "application/vnd.jupyter.widget-view+json": {
       "model_id": "69b921521d714b18849f9a40af1cef5b",
       "version_major": 2,
       "version_minor": 0
      },
      "text/plain": [
       "valid:   0%|          | 0/600 [00:00<?, ?it/s]"
      ]
     },
     "metadata": {},
     "output_type": "display_data"
    },
    {
     "name": "stdout",
     "output_type": "stream",
     "text": [
      "\n",
      "                            === 12th Epoch ===\n",
      "    \n",
      "        Train Loss : 4.725 | Train Acc : 0.018\n",
      "        Valid Loss : 4.706 | Valid Acc : 0.02\n",
      "        \n",
      "        ============================================\n",
      "        ============================================\n",
      "    \n"
     ]
    },
    {
     "data": {
      "application/vnd.jupyter.widget-view+json": {
       "model_id": "fe025e2ed5a44fe3b185240530cd786d",
       "version_major": 2,
       "version_minor": 0
      },
      "text/plain": [
       "train:   0%|          | 0/600 [00:00<?, ?it/s]"
      ]
     },
     "metadata": {},
     "output_type": "display_data"
    },
    {
     "data": {
      "application/vnd.jupyter.widget-view+json": {
       "model_id": "7c84231b80fb4f00831c33c5aa2427b0",
       "version_major": 2,
       "version_minor": 0
      },
      "text/plain": [
       "valid:   0%|          | 0/600 [00:00<?, ?it/s]"
      ]
     },
     "metadata": {},
     "output_type": "display_data"
    },
    {
     "name": "stdout",
     "output_type": "stream",
     "text": [
      "\n",
      "                            === 13th Epoch ===\n",
      "    \n",
      "        Train Loss : 4.7 | Train Acc : 0.02\n",
      "        Valid Loss : 4.674 | Valid Acc : 0.023\n",
      "        \n",
      "        ============================================\n",
      "        ============================================\n",
      "    \n"
     ]
    },
    {
     "data": {
      "application/vnd.jupyter.widget-view+json": {
       "model_id": "772e6ee5096448d6bafac0e719d12ef1",
       "version_major": 2,
       "version_minor": 0
      },
      "text/plain": [
       "train:   0%|          | 0/600 [00:00<?, ?it/s]"
      ]
     },
     "metadata": {},
     "output_type": "display_data"
    },
    {
     "data": {
      "application/vnd.jupyter.widget-view+json": {
       "model_id": "b9e3fb45172846a7a55f36d62583222b",
       "version_major": 2,
       "version_minor": 0
      },
      "text/plain": [
       "valid:   0%|          | 0/600 [00:00<?, ?it/s]"
      ]
     },
     "metadata": {},
     "output_type": "display_data"
    },
    {
     "name": "stdout",
     "output_type": "stream",
     "text": [
      "\n",
      "                            === 14th Epoch ===\n",
      "    \n",
      "        Train Loss : 4.667 | Train Acc : 0.025\n",
      "        Valid Loss : 4.646 | Valid Acc : 0.027\n",
      "        \n",
      "        ============================================\n",
      "        ============================================\n",
      "    \n"
     ]
    },
    {
     "data": {
      "application/vnd.jupyter.widget-view+json": {
       "model_id": "46a682cd12c441ab99561f3c357816d0",
       "version_major": 2,
       "version_minor": 0
      },
      "text/plain": [
       "train:   0%|          | 0/600 [00:00<?, ?it/s]"
      ]
     },
     "metadata": {},
     "output_type": "display_data"
    },
    {
     "data": {
      "application/vnd.jupyter.widget-view+json": {
       "model_id": "fe2a437359844dbb8b5f79e03c3dfb08",
       "version_major": 2,
       "version_minor": 0
      },
      "text/plain": [
       "valid:   0%|          | 0/600 [00:00<?, ?it/s]"
      ]
     },
     "metadata": {},
     "output_type": "display_data"
    },
    {
     "name": "stdout",
     "output_type": "stream",
     "text": [
      "\n",
      "                            === 15th Epoch ===\n",
      "    \n",
      "        Train Loss : 4.647 | Train Acc : 0.026\n",
      "        Valid Loss : 4.645 | Valid Acc : 0.026\n",
      "        \n",
      "        ============================================\n",
      "        ============================================\n",
      "    \n"
     ]
    },
    {
     "data": {
      "application/vnd.jupyter.widget-view+json": {
       "model_id": "12bec1b8cd514cf0b137629d055cf057",
       "version_major": 2,
       "version_minor": 0
      },
      "text/plain": [
       "train:   0%|          | 0/600 [00:00<?, ?it/s]"
      ]
     },
     "metadata": {},
     "output_type": "display_data"
    },
    {
     "data": {
      "application/vnd.jupyter.widget-view+json": {
       "model_id": "4d8bb95bcb6847da8e4628e6a9340094",
       "version_major": 2,
       "version_minor": 0
      },
      "text/plain": [
       "valid:   0%|          | 0/600 [00:00<?, ?it/s]"
      ]
     },
     "metadata": {},
     "output_type": "display_data"
    },
    {
     "name": "stdout",
     "output_type": "stream",
     "text": [
      "\n",
      "                            === 16th Epoch ===\n",
      "    \n",
      "        Train Loss : 4.628 | Train Acc : 0.027\n",
      "        Valid Loss : 4.615 | Valid Acc : 0.029\n",
      "        \n",
      "        ============================================\n",
      "        ============================================\n",
      "    \n"
     ]
    },
    {
     "data": {
      "application/vnd.jupyter.widget-view+json": {
       "model_id": "9558c7847315450b9ed0909a6851e8fd",
       "version_major": 2,
       "version_minor": 0
      },
      "text/plain": [
       "train:   0%|          | 0/600 [00:00<?, ?it/s]"
      ]
     },
     "metadata": {},
     "output_type": "display_data"
    },
    {
     "data": {
      "application/vnd.jupyter.widget-view+json": {
       "model_id": "27cac46c2420434aa26ff07b3415d58e",
       "version_major": 2,
       "version_minor": 0
      },
      "text/plain": [
       "valid:   0%|          | 0/600 [00:00<?, ?it/s]"
      ]
     },
     "metadata": {},
     "output_type": "display_data"
    },
    {
     "name": "stdout",
     "output_type": "stream",
     "text": [
      "\n",
      "                            === 17th Epoch ===\n",
      "    \n",
      "        Train Loss : 4.608 | Train Acc : 0.031\n",
      "        Valid Loss : 4.596 | Valid Acc : 0.031\n",
      "        \n",
      "        ============================================\n",
      "        ============================================\n",
      "    \n"
     ]
    },
    {
     "data": {
      "application/vnd.jupyter.widget-view+json": {
       "model_id": "81bb3cc99ca044b88173f9fc4d86c953",
       "version_major": 2,
       "version_minor": 0
      },
      "text/plain": [
       "train:   0%|          | 0/600 [00:00<?, ?it/s]"
      ]
     },
     "metadata": {},
     "output_type": "display_data"
    },
    {
     "data": {
      "application/vnd.jupyter.widget-view+json": {
       "model_id": "1ddf2d680e3b4f66843191acc39f5c69",
       "version_major": 2,
       "version_minor": 0
      },
      "text/plain": [
       "valid:   0%|          | 0/600 [00:00<?, ?it/s]"
      ]
     },
     "metadata": {},
     "output_type": "display_data"
    },
    {
     "name": "stdout",
     "output_type": "stream",
     "text": [
      "\n",
      "                            === 18th Epoch ===\n",
      "    \n",
      "        Train Loss : 4.502 | Train Acc : 0.041\n",
      "        Valid Loss : 4.342 | Valid Acc : 0.061\n",
      "        \n",
      "        ============================================\n",
      "        ============================================\n",
      "    \n"
     ]
    },
    {
     "data": {
      "application/vnd.jupyter.widget-view+json": {
       "model_id": "8e3b2082cdfd43cfb0ef809b412aa690",
       "version_major": 2,
       "version_minor": 0
      },
      "text/plain": [
       "train:   0%|          | 0/600 [00:00<?, ?it/s]"
      ]
     },
     "metadata": {},
     "output_type": "display_data"
    },
    {
     "data": {
      "application/vnd.jupyter.widget-view+json": {
       "model_id": "6ebe9183c1f844dda965b86c7e95f985",
       "version_major": 2,
       "version_minor": 0
      },
      "text/plain": [
       "valid:   0%|          | 0/600 [00:00<?, ?it/s]"
      ]
     },
     "metadata": {},
     "output_type": "display_data"
    },
    {
     "name": "stdout",
     "output_type": "stream",
     "text": [
      "\n",
      "                            === 19th Epoch ===\n",
      "    \n",
      "        Train Loss : 4.223 | Train Acc : 0.075\n",
      "        Valid Loss : 4.08 | Valid Acc : 0.098\n",
      "        \n",
      "        ============================================\n",
      "        ============================================\n",
      "    \n"
     ]
    },
    {
     "data": {
      "application/vnd.jupyter.widget-view+json": {
       "model_id": "d142768b744545f0b5aee72e53fed9a4",
       "version_major": 2,
       "version_minor": 0
      },
      "text/plain": [
       "train:   0%|          | 0/600 [00:00<?, ?it/s]"
      ]
     },
     "metadata": {},
     "output_type": "display_data"
    },
    {
     "data": {
      "application/vnd.jupyter.widget-view+json": {
       "model_id": "445a6d3a071148d18cf69ae74d8d44de",
       "version_major": 2,
       "version_minor": 0
      },
      "text/plain": [
       "valid:   0%|          | 0/600 [00:00<?, ?it/s]"
      ]
     },
     "metadata": {},
     "output_type": "display_data"
    },
    {
     "name": "stdout",
     "output_type": "stream",
     "text": [
      "\n",
      "                            === 20th Epoch ===\n",
      "    \n",
      "        Train Loss : 4.045 | Train Acc : 0.104\n",
      "        Valid Loss : 3.968 | Valid Acc : 0.114\n",
      "        \n",
      "        ============================================\n",
      "        ============================================\n",
      "    \n"
     ]
    },
    {
     "data": {
      "application/vnd.jupyter.widget-view+json": {
       "model_id": "700216416cb644298e876d3a5b1c93c7",
       "version_major": 2,
       "version_minor": 0
      },
      "text/plain": [
       "train:   0%|          | 0/600 [00:00<?, ?it/s]"
      ]
     },
     "metadata": {},
     "output_type": "display_data"
    },
    {
     "data": {
      "application/vnd.jupyter.widget-view+json": {
       "model_id": "bcf12a5a2443421fa0f3735d36e5c8d9",
       "version_major": 2,
       "version_minor": 0
      },
      "text/plain": [
       "valid:   0%|          | 0/600 [00:00<?, ?it/s]"
      ]
     },
     "metadata": {},
     "output_type": "display_data"
    },
    {
     "name": "stdout",
     "output_type": "stream",
     "text": [
      "\n",
      "                            === 21th Epoch ===\n",
      "    \n",
      "        Train Loss : 3.915 | Train Acc : 0.123\n",
      "        Valid Loss : 3.834 | Valid Acc : 0.137\n",
      "        \n",
      "        ============================================\n",
      "        ============================================\n",
      "    \n"
     ]
    },
    {
     "data": {
      "application/vnd.jupyter.widget-view+json": {
       "model_id": "709ec49b24f8497897ef163490390ef2",
       "version_major": 2,
       "version_minor": 0
      },
      "text/plain": [
       "train:   0%|          | 0/600 [00:00<?, ?it/s]"
      ]
     },
     "metadata": {},
     "output_type": "display_data"
    },
    {
     "data": {
      "application/vnd.jupyter.widget-view+json": {
       "model_id": "02d6c4f3f2be4e4788c042de66075c8b",
       "version_major": 2,
       "version_minor": 0
      },
      "text/plain": [
       "valid:   0%|          | 0/600 [00:00<?, ?it/s]"
      ]
     },
     "metadata": {},
     "output_type": "display_data"
    },
    {
     "name": "stdout",
     "output_type": "stream",
     "text": [
      "\n",
      "                            === 22th Epoch ===\n",
      "    \n",
      "        Train Loss : 3.812 | Train Acc : 0.137\n",
      "        Valid Loss : 3.699 | Valid Acc : 0.155\n",
      "        \n",
      "        ============================================\n",
      "        ============================================\n",
      "    \n"
     ]
    },
    {
     "data": {
      "application/vnd.jupyter.widget-view+json": {
       "model_id": "a7519d6eabab405d881a83c7031ed64d",
       "version_major": 2,
       "version_minor": 0
      },
      "text/plain": [
       "train:   0%|          | 0/600 [00:00<?, ?it/s]"
      ]
     },
     "metadata": {},
     "output_type": "display_data"
    },
    {
     "data": {
      "application/vnd.jupyter.widget-view+json": {
       "model_id": "f00eae5941a34ac9b8036a0837d9f214",
       "version_major": 2,
       "version_minor": 0
      },
      "text/plain": [
       "valid:   0%|          | 0/600 [00:00<?, ?it/s]"
      ]
     },
     "metadata": {},
     "output_type": "display_data"
    },
    {
     "name": "stdout",
     "output_type": "stream",
     "text": [
      "\n",
      "                            === 23th Epoch ===\n",
      "    \n",
      "        Train Loss : 3.726 | Train Acc : 0.154\n",
      "        Valid Loss : 3.682 | Valid Acc : 0.158\n",
      "        \n",
      "        ============================================\n",
      "        ============================================\n",
      "    \n"
     ]
    },
    {
     "data": {
      "application/vnd.jupyter.widget-view+json": {
       "model_id": "72c65bb6706643df806daaad0831dd0f",
       "version_major": 2,
       "version_minor": 0
      },
      "text/plain": [
       "train:   0%|          | 0/600 [00:00<?, ?it/s]"
      ]
     },
     "metadata": {},
     "output_type": "display_data"
    },
    {
     "data": {
      "application/vnd.jupyter.widget-view+json": {
       "model_id": "faea05d0ca2d4c3f82d191f1f84d0729",
       "version_major": 2,
       "version_minor": 0
      },
      "text/plain": [
       "valid:   0%|          | 0/600 [00:00<?, ?it/s]"
      ]
     },
     "metadata": {},
     "output_type": "display_data"
    },
    {
     "name": "stdout",
     "output_type": "stream",
     "text": [
      "\n",
      "                            === 24th Epoch ===\n",
      "    \n",
      "        Train Loss : 3.647 | Train Acc : 0.165\n",
      "        Valid Loss : 3.56 | Valid Acc : 0.18\n",
      "        \n",
      "        ============================================\n",
      "        ============================================\n",
      "    \n"
     ]
    },
    {
     "data": {
      "application/vnd.jupyter.widget-view+json": {
       "model_id": "bc6cc9bf99d342e1a6722a1b552dc533",
       "version_major": 2,
       "version_minor": 0
      },
      "text/plain": [
       "train:   0%|          | 0/600 [00:00<?, ?it/s]"
      ]
     },
     "metadata": {},
     "output_type": "display_data"
    },
    {
     "data": {
      "application/vnd.jupyter.widget-view+json": {
       "model_id": "12f52bec0656442091ceef326fda462e",
       "version_major": 2,
       "version_minor": 0
      },
      "text/plain": [
       "valid:   0%|          | 0/600 [00:00<?, ?it/s]"
      ]
     },
     "metadata": {},
     "output_type": "display_data"
    },
    {
     "name": "stdout",
     "output_type": "stream",
     "text": [
      "\n",
      "                            === 25th Epoch ===\n",
      "    \n",
      "        Train Loss : 3.568 | Train Acc : 0.178\n",
      "        Valid Loss : 3.489 | Valid Acc : 0.191\n",
      "        \n",
      "        ============================================\n",
      "        ============================================\n",
      "    \n"
     ]
    },
    {
     "data": {
      "application/vnd.jupyter.widget-view+json": {
       "model_id": "97653ec579404318a1c3dad52d935980",
       "version_major": 2,
       "version_minor": 0
      },
      "text/plain": [
       "train:   0%|          | 0/600 [00:00<?, ?it/s]"
      ]
     },
     "metadata": {},
     "output_type": "display_data"
    },
    {
     "data": {
      "application/vnd.jupyter.widget-view+json": {
       "model_id": "c3aea6b0e85d4434bf841f29b1af9419",
       "version_major": 2,
       "version_minor": 0
      },
      "text/plain": [
       "valid:   0%|          | 0/600 [00:00<?, ?it/s]"
      ]
     },
     "metadata": {},
     "output_type": "display_data"
    },
    {
     "name": "stdout",
     "output_type": "stream",
     "text": [
      "\n",
      "                            === 26th Epoch ===\n",
      "    \n",
      "        Train Loss : 3.499 | Train Acc : 0.19\n",
      "        Valid Loss : 3.415 | Valid Acc : 0.205\n",
      "        \n",
      "        ============================================\n",
      "        ============================================\n",
      "    \n"
     ]
    },
    {
     "data": {
      "application/vnd.jupyter.widget-view+json": {
       "model_id": "9914878d7f7c4966b10ab9dd75bcc304",
       "version_major": 2,
       "version_minor": 0
      },
      "text/plain": [
       "train:   0%|          | 0/600 [00:00<?, ?it/s]"
      ]
     },
     "metadata": {},
     "output_type": "display_data"
    },
    {
     "data": {
      "application/vnd.jupyter.widget-view+json": {
       "model_id": "98704c9ca1e5495b87dfbffdc11e2bef",
       "version_major": 2,
       "version_minor": 0
      },
      "text/plain": [
       "valid:   0%|          | 0/600 [00:00<?, ?it/s]"
      ]
     },
     "metadata": {},
     "output_type": "display_data"
    },
    {
     "name": "stdout",
     "output_type": "stream",
     "text": [
      "\n",
      "                            === 27th Epoch ===\n",
      "    \n",
      "        Train Loss : 3.427 | Train Acc : 0.202\n",
      "        Valid Loss : 3.362 | Valid Acc : 0.215\n",
      "        \n",
      "        ============================================\n",
      "        ============================================\n",
      "    \n"
     ]
    },
    {
     "data": {
      "application/vnd.jupyter.widget-view+json": {
       "model_id": "69f6516ad6de421b98aa79ed511a6e6e",
       "version_major": 2,
       "version_minor": 0
      },
      "text/plain": [
       "train:   0%|          | 0/600 [00:00<?, ?it/s]"
      ]
     },
     "metadata": {},
     "output_type": "display_data"
    },
    {
     "data": {
      "application/vnd.jupyter.widget-view+json": {
       "model_id": "af376658d19540afb40802669812ab6c",
       "version_major": 2,
       "version_minor": 0
      },
      "text/plain": [
       "valid:   0%|          | 0/600 [00:00<?, ?it/s]"
      ]
     },
     "metadata": {},
     "output_type": "display_data"
    },
    {
     "name": "stdout",
     "output_type": "stream",
     "text": [
      "\n",
      "                            === 28th Epoch ===\n",
      "    \n",
      "        Train Loss : 3.365 | Train Acc : 0.212\n",
      "        Valid Loss : 3.289 | Valid Acc : 0.227\n",
      "        \n",
      "        ============================================\n",
      "        ============================================\n",
      "    \n"
     ]
    },
    {
     "data": {
      "application/vnd.jupyter.widget-view+json": {
       "model_id": "0a4a12b0ac0e40f2b3c5c1282967697d",
       "version_major": 2,
       "version_minor": 0
      },
      "text/plain": [
       "train:   0%|          | 0/600 [00:00<?, ?it/s]"
      ]
     },
     "metadata": {},
     "output_type": "display_data"
    },
    {
     "data": {
      "application/vnd.jupyter.widget-view+json": {
       "model_id": "790d2c52197f400e9f5a606152425c97",
       "version_major": 2,
       "version_minor": 0
      },
      "text/plain": [
       "valid:   0%|          | 0/600 [00:00<?, ?it/s]"
      ]
     },
     "metadata": {},
     "output_type": "display_data"
    },
    {
     "name": "stdout",
     "output_type": "stream",
     "text": [
      "\n",
      "                            === 29th Epoch ===\n",
      "    \n",
      "        Train Loss : 3.309 | Train Acc : 0.223\n",
      "        Valid Loss : 3.24 | Valid Acc : 0.234\n",
      "        \n",
      "        ============================================\n",
      "        ============================================\n",
      "    \n"
     ]
    },
    {
     "data": {
      "application/vnd.jupyter.widget-view+json": {
       "model_id": "dbbc9c3850d3416c841221017c6d9fed",
       "version_major": 2,
       "version_minor": 0
      },
      "text/plain": [
       "train:   0%|          | 0/600 [00:00<?, ?it/s]"
      ]
     },
     "metadata": {},
     "output_type": "display_data"
    },
    {
     "data": {
      "application/vnd.jupyter.widget-view+json": {
       "model_id": "04a1444a1ac24d0ea333b1a9ed6fd47b",
       "version_major": 2,
       "version_minor": 0
      },
      "text/plain": [
       "valid:   0%|          | 0/600 [00:00<?, ?it/s]"
      ]
     },
     "metadata": {},
     "output_type": "display_data"
    },
    {
     "name": "stdout",
     "output_type": "stream",
     "text": [
      "\n",
      "                            === 30th Epoch ===\n",
      "    \n",
      "        Train Loss : 3.269 | Train Acc : 0.232\n",
      "        Valid Loss : 3.185 | Valid Acc : 0.245\n",
      "        \n",
      "        ============================================\n",
      "        ============================================\n",
      "    \n"
     ]
    },
    {
     "data": {
      "application/vnd.jupyter.widget-view+json": {
       "model_id": "c0bf944dd8714eaf942c81448a7ca3c7",
       "version_major": 2,
       "version_minor": 0
      },
      "text/plain": [
       "train:   0%|          | 0/600 [00:00<?, ?it/s]"
      ]
     },
     "metadata": {},
     "output_type": "display_data"
    },
    {
     "data": {
      "application/vnd.jupyter.widget-view+json": {
       "model_id": "cf1032a576eb4a2daa6d6831dcefcf5e",
       "version_major": 2,
       "version_minor": 0
      },
      "text/plain": [
       "valid:   0%|          | 0/600 [00:00<?, ?it/s]"
      ]
     },
     "metadata": {},
     "output_type": "display_data"
    },
    {
     "name": "stdout",
     "output_type": "stream",
     "text": [
      "\n",
      "                            === 31th Epoch ===\n",
      "    \n",
      "        Train Loss : 3.206 | Train Acc : 0.24\n",
      "        Valid Loss : 3.15 | Valid Acc : 0.25\n",
      "        \n",
      "        ============================================\n",
      "        ============================================\n",
      "    \n"
     ]
    },
    {
     "data": {
      "application/vnd.jupyter.widget-view+json": {
       "model_id": "9a448dc8715740f68ea0419f0aab6d52",
       "version_major": 2,
       "version_minor": 0
      },
      "text/plain": [
       "train:   0%|          | 0/600 [00:00<?, ?it/s]"
      ]
     },
     "metadata": {},
     "output_type": "display_data"
    },
    {
     "data": {
      "application/vnd.jupyter.widget-view+json": {
       "model_id": "6eac0e4a5ddb4255b23377eaaee6ae57",
       "version_major": 2,
       "version_minor": 0
      },
      "text/plain": [
       "valid:   0%|          | 0/600 [00:00<?, ?it/s]"
      ]
     },
     "metadata": {},
     "output_type": "display_data"
    },
    {
     "name": "stdout",
     "output_type": "stream",
     "text": [
      "\n",
      "                            === 32th Epoch ===\n",
      "    \n",
      "        Train Loss : 3.158 | Train Acc : 0.248\n",
      "        Valid Loss : 3.107 | Valid Acc : 0.258\n",
      "        \n",
      "        ============================================\n",
      "        ============================================\n",
      "    \n"
     ]
    },
    {
     "data": {
      "application/vnd.jupyter.widget-view+json": {
       "model_id": "090a2a55d925422f8feae74ff03780b7",
       "version_major": 2,
       "version_minor": 0
      },
      "text/plain": [
       "train:   0%|          | 0/600 [00:00<?, ?it/s]"
      ]
     },
     "metadata": {},
     "output_type": "display_data"
    },
    {
     "data": {
      "application/vnd.jupyter.widget-view+json": {
       "model_id": "5b842be78e5644d38c2af07ff8aa0a62",
       "version_major": 2,
       "version_minor": 0
      },
      "text/plain": [
       "valid:   0%|          | 0/600 [00:00<?, ?it/s]"
      ]
     },
     "metadata": {},
     "output_type": "display_data"
    },
    {
     "name": "stdout",
     "output_type": "stream",
     "text": [
      "\n",
      "                            === 33th Epoch ===\n",
      "    \n",
      "        Train Loss : 3.111 | Train Acc : 0.258\n",
      "        Valid Loss : 3.023 | Valid Acc : 0.275\n",
      "        \n",
      "        ============================================\n",
      "        ============================================\n",
      "    \n"
     ]
    },
    {
     "data": {
      "application/vnd.jupyter.widget-view+json": {
       "model_id": "3479535d118c4c369a39b0deb831c447",
       "version_major": 2,
       "version_minor": 0
      },
      "text/plain": [
       "train:   0%|          | 0/600 [00:00<?, ?it/s]"
      ]
     },
     "metadata": {},
     "output_type": "display_data"
    },
    {
     "data": {
      "application/vnd.jupyter.widget-view+json": {
       "model_id": "88dbdd04dc04446699f078665792cb74",
       "version_major": 2,
       "version_minor": 0
      },
      "text/plain": [
       "valid:   0%|          | 0/600 [00:00<?, ?it/s]"
      ]
     },
     "metadata": {},
     "output_type": "display_data"
    },
    {
     "name": "stdout",
     "output_type": "stream",
     "text": [
      "\n",
      "                            === 34th Epoch ===\n",
      "    \n",
      "        Train Loss : 3.064 | Train Acc : 0.268\n",
      "        Valid Loss : 2.974 | Valid Acc : 0.283\n",
      "        \n",
      "        ============================================\n",
      "        ============================================\n",
      "    \n"
     ]
    },
    {
     "data": {
      "application/vnd.jupyter.widget-view+json": {
       "model_id": "4adda1f370f04517897cd85d87dc598f",
       "version_major": 2,
       "version_minor": 0
      },
      "text/plain": [
       "train:   0%|          | 0/600 [00:00<?, ?it/s]"
      ]
     },
     "metadata": {},
     "output_type": "display_data"
    },
    {
     "data": {
      "application/vnd.jupyter.widget-view+json": {
       "model_id": "4c94b5b9d1b44d33b5206b79f29a3404",
       "version_major": 2,
       "version_minor": 0
      },
      "text/plain": [
       "valid:   0%|          | 0/600 [00:00<?, ?it/s]"
      ]
     },
     "metadata": {},
     "output_type": "display_data"
    },
    {
     "name": "stdout",
     "output_type": "stream",
     "text": [
      "\n",
      "                            === 35th Epoch ===\n",
      "    \n",
      "        Train Loss : 3.026 | Train Acc : 0.274\n",
      "        Valid Loss : 2.95 | Valid Acc : 0.287\n",
      "        \n",
      "        ============================================\n",
      "        ============================================\n",
      "    \n"
     ]
    },
    {
     "data": {
      "application/vnd.jupyter.widget-view+json": {
       "model_id": "02166593aed94a34afb6fb0f6554bb63",
       "version_major": 2,
       "version_minor": 0
      },
      "text/plain": [
       "train:   0%|          | 0/600 [00:00<?, ?it/s]"
      ]
     },
     "metadata": {},
     "output_type": "display_data"
    },
    {
     "data": {
      "application/vnd.jupyter.widget-view+json": {
       "model_id": "7e8cb953590b43d2a8256b91753fd624",
       "version_major": 2,
       "version_minor": 0
      },
      "text/plain": [
       "valid:   0%|          | 0/600 [00:00<?, ?it/s]"
      ]
     },
     "metadata": {},
     "output_type": "display_data"
    },
    {
     "name": "stdout",
     "output_type": "stream",
     "text": [
      "\n",
      "                            === 36th Epoch ===\n",
      "    \n",
      "        Train Loss : 3.022 | Train Acc : 0.275\n",
      "        Valid Loss : 3.737 | Valid Acc : 0.148\n",
      "        \n",
      "        ============================================\n",
      "        ============================================\n",
      "    \n"
     ]
    },
    {
     "data": {
      "application/vnd.jupyter.widget-view+json": {
       "model_id": "7dc6480158674bedafe90b0d0d3ffa70",
       "version_major": 2,
       "version_minor": 0
      },
      "text/plain": [
       "train:   0%|          | 0/600 [00:00<?, ?it/s]"
      ]
     },
     "metadata": {},
     "output_type": "display_data"
    },
    {
     "data": {
      "application/vnd.jupyter.widget-view+json": {
       "model_id": "74907ffdd86c42fba375230097e2edfd",
       "version_major": 2,
       "version_minor": 0
      },
      "text/plain": [
       "valid:   0%|          | 0/600 [00:00<?, ?it/s]"
      ]
     },
     "metadata": {},
     "output_type": "display_data"
    },
    {
     "name": "stdout",
     "output_type": "stream",
     "text": [
      "\n",
      "                            === 37th Epoch ===\n",
      "    \n",
      "        Train Loss : 3.0 | Train Acc : 0.279\n",
      "        Valid Loss : 2.878 | Valid Acc : 0.299\n",
      "        \n",
      "        ============================================\n",
      "        ============================================\n",
      "    \n"
     ]
    },
    {
     "data": {
      "application/vnd.jupyter.widget-view+json": {
       "model_id": "6ee6183e40204c8c91cb374145c8fae5",
       "version_major": 2,
       "version_minor": 0
      },
      "text/plain": [
       "train:   0%|          | 0/600 [00:00<?, ?it/s]"
      ]
     },
     "metadata": {},
     "output_type": "display_data"
    },
    {
     "data": {
      "application/vnd.jupyter.widget-view+json": {
       "model_id": "dab970ea86824e40a648d64f710d501e",
       "version_major": 2,
       "version_minor": 0
      },
      "text/plain": [
       "valid:   0%|          | 0/600 [00:00<?, ?it/s]"
      ]
     },
     "metadata": {},
     "output_type": "display_data"
    },
    {
     "name": "stdout",
     "output_type": "stream",
     "text": [
      "\n",
      "                            === 38th Epoch ===\n",
      "    \n",
      "        Train Loss : 2.907 | Train Acc : 0.296\n",
      "        Valid Loss : 2.862 | Valid Acc : 0.306\n",
      "        \n",
      "        ============================================\n",
      "        ============================================\n",
      "    \n"
     ]
    },
    {
     "data": {
      "application/vnd.jupyter.widget-view+json": {
       "model_id": "2902868ca63c45a38fab16a1bc6e0903",
       "version_major": 2,
       "version_minor": 0
      },
      "text/plain": [
       "train:   0%|          | 0/600 [00:00<?, ?it/s]"
      ]
     },
     "metadata": {},
     "output_type": "display_data"
    },
    {
     "data": {
      "application/vnd.jupyter.widget-view+json": {
       "model_id": "01db05d8d4ac44c08ef563e1112afb16",
       "version_major": 2,
       "version_minor": 0
      },
      "text/plain": [
       "valid:   0%|          | 0/600 [00:00<?, ?it/s]"
      ]
     },
     "metadata": {},
     "output_type": "display_data"
    },
    {
     "name": "stdout",
     "output_type": "stream",
     "text": [
      "\n",
      "                            === 39th Epoch ===\n",
      "    \n",
      "        Train Loss : 2.87 | Train Acc : 0.303\n",
      "        Valid Loss : 2.811 | Valid Acc : 0.315\n",
      "        \n",
      "        ============================================\n",
      "        ============================================\n",
      "    \n"
     ]
    },
    {
     "data": {
      "application/vnd.jupyter.widget-view+json": {
       "model_id": "b671e732a8234bc29530912ec9fea9ca",
       "version_major": 2,
       "version_minor": 0
      },
      "text/plain": [
       "train:   0%|          | 0/600 [00:00<?, ?it/s]"
      ]
     },
     "metadata": {},
     "output_type": "display_data"
    },
    {
     "data": {
      "application/vnd.jupyter.widget-view+json": {
       "model_id": "31ec9aacf80a4ff3b827ebd18f1cfb49",
       "version_major": 2,
       "version_minor": 0
      },
      "text/plain": [
       "valid:   0%|          | 0/600 [00:00<?, ?it/s]"
      ]
     },
     "metadata": {},
     "output_type": "display_data"
    },
    {
     "name": "stdout",
     "output_type": "stream",
     "text": [
      "\n",
      "                            === 40th Epoch ===\n",
      "    \n",
      "        Train Loss : 2.847 | Train Acc : 0.307\n",
      "        Valid Loss : 2.783 | Valid Acc : 0.319\n",
      "        \n",
      "        ============================================\n",
      "        ============================================\n",
      "    \n"
     ]
    },
    {
     "data": {
      "application/vnd.jupyter.widget-view+json": {
       "model_id": "f3fd0cdd0a0747649df4a487c8477c5b",
       "version_major": 2,
       "version_minor": 0
      },
      "text/plain": [
       "train:   0%|          | 0/600 [00:00<?, ?it/s]"
      ]
     },
     "metadata": {},
     "output_type": "display_data"
    },
    {
     "data": {
      "application/vnd.jupyter.widget-view+json": {
       "model_id": "ec674ca5d09f4d4c97f52d4670706ab3",
       "version_major": 2,
       "version_minor": 0
      },
      "text/plain": [
       "valid:   0%|          | 0/600 [00:00<?, ?it/s]"
      ]
     },
     "metadata": {},
     "output_type": "display_data"
    },
    {
     "name": "stdout",
     "output_type": "stream",
     "text": [
      "\n",
      "                            === 41th Epoch ===\n",
      "    \n",
      "        Train Loss : 2.801 | Train Acc : 0.316\n",
      "        Valid Loss : 2.719 | Valid Acc : 0.331\n",
      "        \n",
      "        ============================================\n",
      "        ============================================\n",
      "    \n"
     ]
    },
    {
     "data": {
      "application/vnd.jupyter.widget-view+json": {
       "model_id": "a6a3e7604f7545c0aecf218729039b27",
       "version_major": 2,
       "version_minor": 0
      },
      "text/plain": [
       "train:   0%|          | 0/600 [00:00<?, ?it/s]"
      ]
     },
     "metadata": {},
     "output_type": "display_data"
    },
    {
     "data": {
      "application/vnd.jupyter.widget-view+json": {
       "model_id": "1d384799e44a465c8509e4e17b0ffa4c",
       "version_major": 2,
       "version_minor": 0
      },
      "text/plain": [
       "valid:   0%|          | 0/600 [00:00<?, ?it/s]"
      ]
     },
     "metadata": {},
     "output_type": "display_data"
    },
    {
     "name": "stdout",
     "output_type": "stream",
     "text": [
      "\n",
      "                            === 42th Epoch ===\n",
      "    \n",
      "        Train Loss : 2.783 | Train Acc : 0.32\n",
      "        Valid Loss : 2.716 | Valid Acc : 0.334\n",
      "        \n",
      "        ============================================\n",
      "        ============================================\n",
      "    \n"
     ]
    },
    {
     "data": {
      "application/vnd.jupyter.widget-view+json": {
       "model_id": "5a361642a5d44da78b1ea4cd256f8a5d",
       "version_major": 2,
       "version_minor": 0
      },
      "text/plain": [
       "train:   0%|          | 0/600 [00:00<?, ?it/s]"
      ]
     },
     "metadata": {},
     "output_type": "display_data"
    },
    {
     "data": {
      "application/vnd.jupyter.widget-view+json": {
       "model_id": "e49ef1871e2b40a98aef21e43f589012",
       "version_major": 2,
       "version_minor": 0
      },
      "text/plain": [
       "valid:   0%|          | 0/600 [00:00<?, ?it/s]"
      ]
     },
     "metadata": {},
     "output_type": "display_data"
    },
    {
     "name": "stdout",
     "output_type": "stream",
     "text": [
      "\n",
      "                            === 43th Epoch ===\n",
      "    \n",
      "        Train Loss : 2.779 | Train Acc : 0.322\n",
      "        Valid Loss : 4.024 | Valid Acc : 0.113\n",
      "        \n",
      "        ============================================\n",
      "        ============================================\n",
      "    \n"
     ]
    },
    {
     "data": {
      "application/vnd.jupyter.widget-view+json": {
       "model_id": "9ed3784e06f14e5a8d94f4064de26f67",
       "version_major": 2,
       "version_minor": 0
      },
      "text/plain": [
       "train:   0%|          | 0/600 [00:00<?, ?it/s]"
      ]
     },
     "metadata": {},
     "output_type": "display_data"
    },
    {
     "data": {
      "application/vnd.jupyter.widget-view+json": {
       "model_id": "c6f34d48dba147ad8110060cb0b13ddc",
       "version_major": 2,
       "version_minor": 0
      },
      "text/plain": [
       "valid:   0%|          | 0/600 [00:00<?, ?it/s]"
      ]
     },
     "metadata": {},
     "output_type": "display_data"
    },
    {
     "name": "stdout",
     "output_type": "stream",
     "text": [
      "\n",
      "                            === 44th Epoch ===\n",
      "    \n",
      "        Train Loss : 2.882 | Train Acc : 0.302\n",
      "        Valid Loss : 2.659 | Valid Acc : 0.344\n",
      "        \n",
      "        ============================================\n",
      "        ============================================\n",
      "    \n"
     ]
    },
    {
     "data": {
      "application/vnd.jupyter.widget-view+json": {
       "model_id": "b4de471e05444239b0b5ad8f24a5168f",
       "version_major": 2,
       "version_minor": 0
      },
      "text/plain": [
       "train:   0%|          | 0/600 [00:00<?, ?it/s]"
      ]
     },
     "metadata": {},
     "output_type": "display_data"
    },
    {
     "data": {
      "application/vnd.jupyter.widget-view+json": {
       "model_id": "84c72b3a2d1b427f8779df6d5bc09c0b",
       "version_major": 2,
       "version_minor": 0
      },
      "text/plain": [
       "valid:   0%|          | 0/600 [00:00<?, ?it/s]"
      ]
     },
     "metadata": {},
     "output_type": "display_data"
    },
    {
     "name": "stdout",
     "output_type": "stream",
     "text": [
      "\n",
      "                            === 45th Epoch ===\n",
      "    \n",
      "        Train Loss : 2.695 | Train Acc : 0.337\n",
      "        Valid Loss : 2.624 | Valid Acc : 0.351\n",
      "        \n",
      "        ============================================\n",
      "        ============================================\n",
      "    \n"
     ]
    },
    {
     "data": {
      "application/vnd.jupyter.widget-view+json": {
       "model_id": "6f80e72119b54dd7b2d0eb42174c870b",
       "version_major": 2,
       "version_minor": 0
      },
      "text/plain": [
       "train:   0%|          | 0/600 [00:00<?, ?it/s]"
      ]
     },
     "metadata": {},
     "output_type": "display_data"
    },
    {
     "data": {
      "application/vnd.jupyter.widget-view+json": {
       "model_id": "199a3af9fecb406e91efbbf348b39cf4",
       "version_major": 2,
       "version_minor": 0
      },
      "text/plain": [
       "valid:   0%|          | 0/600 [00:00<?, ?it/s]"
      ]
     },
     "metadata": {},
     "output_type": "display_data"
    },
    {
     "name": "stdout",
     "output_type": "stream",
     "text": [
      "\n",
      "                            === 46th Epoch ===\n",
      "    \n",
      "        Train Loss : 2.664 | Train Acc : 0.341\n",
      "        Valid Loss : 2.592 | Valid Acc : 0.358\n",
      "        \n",
      "        ============================================\n",
      "        ============================================\n",
      "    \n"
     ]
    },
    {
     "data": {
      "application/vnd.jupyter.widget-view+json": {
       "model_id": "71f5924248434bed8b76be2425959785",
       "version_major": 2,
       "version_minor": 0
      },
      "text/plain": [
       "train:   0%|          | 0/600 [00:00<?, ?it/s]"
      ]
     },
     "metadata": {},
     "output_type": "display_data"
    },
    {
     "data": {
      "application/vnd.jupyter.widget-view+json": {
       "model_id": "f4fa37dd455947fc91385a6b065cf2a0",
       "version_major": 2,
       "version_minor": 0
      },
      "text/plain": [
       "valid:   0%|          | 0/600 [00:00<?, ?it/s]"
      ]
     },
     "metadata": {},
     "output_type": "display_data"
    },
    {
     "name": "stdout",
     "output_type": "stream",
     "text": [
      "\n",
      "                            === 47th Epoch ===\n",
      "    \n",
      "        Train Loss : 2.641 | Train Acc : 0.348\n",
      "        Valid Loss : 2.566 | Valid Acc : 0.363\n",
      "        \n",
      "        ============================================\n",
      "        ============================================\n",
      "    \n"
     ]
    },
    {
     "data": {
      "application/vnd.jupyter.widget-view+json": {
       "model_id": "0ba268378b394c80b17ec6af9e2f0171",
       "version_major": 2,
       "version_minor": 0
      },
      "text/plain": [
       "train:   0%|          | 0/600 [00:00<?, ?it/s]"
      ]
     },
     "metadata": {},
     "output_type": "display_data"
    },
    {
     "data": {
      "application/vnd.jupyter.widget-view+json": {
       "model_id": "f1c57c8ad3274be398b2afb9ed604d54",
       "version_major": 2,
       "version_minor": 0
      },
      "text/plain": [
       "valid:   0%|          | 0/600 [00:00<?, ?it/s]"
      ]
     },
     "metadata": {},
     "output_type": "display_data"
    },
    {
     "name": "stdout",
     "output_type": "stream",
     "text": [
      "\n",
      "                            === 48th Epoch ===\n",
      "    \n",
      "        Train Loss : 2.619 | Train Acc : 0.353\n",
      "        Valid Loss : 2.531 | Valid Acc : 0.369\n",
      "        \n",
      "        ============================================\n",
      "        ============================================\n",
      "    \n"
     ]
    },
    {
     "data": {
      "application/vnd.jupyter.widget-view+json": {
       "model_id": "84fd9830cd9f4fb2a7c329c0892d793b",
       "version_major": 2,
       "version_minor": 0
      },
      "text/plain": [
       "train:   0%|          | 0/600 [00:00<?, ?it/s]"
      ]
     },
     "metadata": {},
     "output_type": "display_data"
    },
    {
     "data": {
      "application/vnd.jupyter.widget-view+json": {
       "model_id": "bd7c14ea8fc9476d9d3834aed71d8e05",
       "version_major": 2,
       "version_minor": 0
      },
      "text/plain": [
       "valid:   0%|          | 0/600 [00:00<?, ?it/s]"
      ]
     },
     "metadata": {},
     "output_type": "display_data"
    },
    {
     "name": "stdout",
     "output_type": "stream",
     "text": [
      "\n",
      "                            === 49th Epoch ===\n",
      "    \n",
      "        Train Loss : 2.589 | Train Acc : 0.356\n",
      "        Valid Loss : 2.498 | Valid Acc : 0.376\n",
      "        \n",
      "        ============================================\n",
      "        ============================================\n",
      "    \n"
     ]
    },
    {
     "data": {
      "application/vnd.jupyter.widget-view+json": {
       "model_id": "8b7f30c1f9ec46f990a52ce6565fe595",
       "version_major": 2,
       "version_minor": 0
      },
      "text/plain": [
       "train:   0%|          | 0/600 [00:00<?, ?it/s]"
      ]
     },
     "metadata": {},
     "output_type": "display_data"
    },
    {
     "data": {
      "application/vnd.jupyter.widget-view+json": {
       "model_id": "a0156eedf12a42b3b1ea6ecfa651541f",
       "version_major": 2,
       "version_minor": 0
      },
      "text/plain": [
       "valid:   0%|          | 0/600 [00:00<?, ?it/s]"
      ]
     },
     "metadata": {},
     "output_type": "display_data"
    },
    {
     "name": "stdout",
     "output_type": "stream",
     "text": [
      "\n",
      "                            === 50th Epoch ===\n",
      "    \n",
      "        Train Loss : 2.57 | Train Acc : 0.361\n",
      "        Valid Loss : 2.499 | Valid Acc : 0.375\n",
      "        \n",
      "        ============================================\n",
      "        ============================================\n",
      "    \n"
     ]
    }
   ],
   "source": [
    "epoches = 50\n",
    "\n",
    "for proc in range(epoches) : \n",
    "    t_acc, t_loss = train()\n",
    "    v_acc, v_loss = evalulate()\n",
    "    print(f\"\"\"\n",
    "                            === {proc+1}th Epoch ===\n",
    "    \n",
    "        Train Loss : {round(t_loss, 3)} | Train Acc : {round(t_acc, 3)}\n",
    "        Valid Loss : {round(v_loss, 3)} | Valid Acc : {round(v_acc, 3)}\n",
    "        \n",
    "        ============================================\n",
    "        ============================================\n",
    "    \"\"\")"
   ]
  }
 ],
 "metadata": {
  "kernelspec": {
   "display_name": "Python 3",
   "language": "python",
   "name": "python3"
  },
  "language_info": {
   "codemirror_mode": {
    "name": "ipython",
    "version": 3
   },
   "file_extension": ".py",
   "mimetype": "text/x-python",
   "name": "python",
   "nbconvert_exporter": "python",
   "pygments_lexer": "ipython3",
   "version": "3.8.5"
  }
 },
 "nbformat": 4,
 "nbformat_minor": 4
}
