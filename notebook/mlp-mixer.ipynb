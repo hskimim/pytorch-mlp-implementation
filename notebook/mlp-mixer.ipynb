{
 "cells": [
  {
   "cell_type": "code",
   "execution_count": 6,
   "metadata": {
    "ExecuteTime": {
     "end_time": "2022-02-26T04:07:44.161635Z",
     "start_time": "2022-02-26T04:07:44.154705Z"
    }
   },
   "outputs": [],
   "source": [
    "from tqdm.notebook import tqdm\n",
    "\n",
    "from mlp_mixer.dataset.iterator import ImageNetIterator\n",
    "from mlp_mixer.layer.mixer import MM\n",
    "from torch.utils.data import DataLoader\n",
    "\n",
    "import torch\n",
    "import torch.nn as nn\n",
    "import torch.optim as optim"
   ]
  },
  {
   "cell_type": "code",
   "execution_count": 2,
   "metadata": {
    "ExecuteTime": {
     "end_time": "2022-02-26T04:07:19.685736Z",
     "start_time": "2022-02-26T04:07:18.985462Z"
    }
   },
   "outputs": [],
   "source": [
    "train_iter = ImageNetIterator(root='../imagenet/',\n",
    "                 height=256,\n",
    "                 width=256,\n",
    "                 is_train=True,\n",
    "                 in_memory=False,\n",
    "                 verbose=False)\n",
    "\n",
    "test_iter = ImageNetIterator(root='../imagenet/',\n",
    "                 height=256,\n",
    "                 width=256,\n",
    "                 is_train=True,\n",
    "                 in_memory=False,\n",
    "                 verbose=False)\n",
    "\n",
    "train_loader = DataLoader(train_iter, batch_size=64*2, shuffle=True, num_workers=10)\n",
    "valid_loader = DataLoader(test_iter, batch_size=64*2, shuffle=False, num_workers=10)"
   ]
  },
  {
   "cell_type": "code",
   "execution_count": 3,
   "metadata": {
    "ExecuteTime": {
     "end_time": "2022-02-26T04:07:19.692255Z",
     "start_time": "2022-02-26T04:07:19.688681Z"
    }
   },
   "outputs": [],
   "source": [
    "h, w, c = 256, 256, 3\n",
    "p = 32\n",
    "C=  256\n",
    "S = (h*w)//(p**2)"
   ]
  },
  {
   "cell_type": "code",
   "execution_count": 5,
   "metadata": {
    "ExecuteTime": {
     "end_time": "2022-02-26T04:07:41.802139Z",
     "start_time": "2022-02-26T04:07:37.599726Z"
    }
   },
   "outputs": [],
   "source": [
    "device = torch.device(\"cuda\" if torch.cuda.is_available() else 'cpu')\n",
    "model = nn.DataParallel(MM(h, w, c, 6, p, C, S, 2048, 256, len(train_iter.label_dict)).to(device))"
   ]
  },
  {
   "cell_type": "code",
   "execution_count": 7,
   "metadata": {
    "ExecuteTime": {
     "end_time": "2022-02-26T04:07:50.210987Z",
     "start_time": "2022-02-26T04:07:50.203566Z"
    }
   },
   "outputs": [],
   "source": [
    "optimizer = optim.Adam(model.parameters())\n",
    "criterion = nn.CrossEntropyLoss()"
   ]
  },
  {
   "cell_type": "code",
   "execution_count": 8,
   "metadata": {
    "ExecuteTime": {
     "end_time": "2022-02-26T04:07:51.328914Z",
     "start_time": "2022-02-26T04:07:51.307825Z"
    }
   },
   "outputs": [],
   "source": [
    "def train() : \n",
    "    model.train()\n",
    "    losses = []\n",
    "    accuracies = []\n",
    "\n",
    "    for x,y in tqdm(train_loader, desc='train') : \n",
    "        pred = model(x.to(device))\n",
    "\n",
    "        optimizer.zero_grad()\n",
    "        loss = criterion(pred, y.to(device))\n",
    "        loss.backward()\n",
    "        optimizer.step()\n",
    "\n",
    "        correct = (torch.argmax(pred, dim=1) == y.to(device)).sum()\n",
    "        acc = correct.item() / y.shape[0]\n",
    "\n",
    "        accuracies.append(acc)\n",
    "        losses.append(loss.item())\n",
    "\n",
    "    agg_acc = sum(accuracies) / len(accuracies)\n",
    "    agg_loss = sum(losses) / len(losses)\n",
    "    return agg_acc, agg_loss\n",
    "\n",
    "def evalulate() : \n",
    "    model.eval()\n",
    "    losses = []\n",
    "    accuracies = []\n",
    "\n",
    "    for x,y in tqdm(valid_loader, desc='valid') : \n",
    "        pred = model(x.to(device))\n",
    "\n",
    "        loss = criterion(pred, y.to(device))\n",
    "        correct = (torch.argmax(pred, dim=1) == y.to(device)).sum()\n",
    "        acc = correct.item() / y.shape[0]\n",
    "\n",
    "        accuracies.append(acc)\n",
    "        losses.append(loss.item())\n",
    "\n",
    "    agg_acc = sum(accuracies) / len(accuracies)\n",
    "    agg_loss = sum(losses) / len(losses)\n",
    "    return agg_acc, agg_loss"
   ]
  },
  {
   "cell_type": "code",
   "execution_count": 59,
   "metadata": {
    "ExecuteTime": {
     "end_time": "2022-02-25T17:53:01.279142Z",
     "start_time": "2022-02-25T17:04:27.703046Z"
    },
    "scrolled": true
   },
   "outputs": [
    {
     "data": {
      "application/vnd.jupyter.widget-view+json": {
       "model_id": "8c3693b9652b4e0685b017117b625a89",
       "version_major": 2,
       "version_minor": 0
      },
      "text/plain": [
       "train:   0%|          | 0/600 [00:00<?, ?it/s]"
      ]
     },
     "metadata": {},
     "output_type": "display_data"
    },
    {
     "data": {
      "application/vnd.jupyter.widget-view+json": {
       "model_id": "7d30fd7247124310ba52e5eed050d7d0",
       "version_major": 2,
       "version_minor": 0
      },
      "text/plain": [
       "valid:   0%|          | 0/600 [00:00<?, ?it/s]"
      ]
     },
     "metadata": {},
     "output_type": "display_data"
    },
    {
     "name": "stdout",
     "output_type": "stream",
     "text": [
      "\n",
      "                === 1th Epoch ===\n",
      "    \n",
      "        Train Loss : 3.89 | Train Acc : 0.143\n",
      "        Valid Loss : 3.412 | Valid Acc : 0.211\n",
      "        \n",
      "        ============================================\n",
      "        ============================================\n",
      "    \n"
     ]
    },
    {
     "data": {
      "application/vnd.jupyter.widget-view+json": {
       "model_id": "9d0474dad992429187269612c6eff8c4",
       "version_major": 2,
       "version_minor": 0
      },
      "text/plain": [
       "train:   0%|          | 0/600 [00:00<?, ?it/s]"
      ]
     },
     "metadata": {},
     "output_type": "display_data"
    },
    {
     "data": {
      "application/vnd.jupyter.widget-view+json": {
       "model_id": "74064902ab864006b61d16f414f533fc",
       "version_major": 2,
       "version_minor": 0
      },
      "text/plain": [
       "valid:   0%|          | 0/600 [00:00<?, ?it/s]"
      ]
     },
     "metadata": {},
     "output_type": "display_data"
    },
    {
     "name": "stdout",
     "output_type": "stream",
     "text": [
      "\n",
      "                === 2th Epoch ===\n",
      "    \n",
      "        Train Loss : 3.244 | Train Acc : 0.239\n",
      "        Valid Loss : 2.925 | Valid Acc : 0.292\n",
      "        \n",
      "        ============================================\n",
      "        ============================================\n",
      "    \n"
     ]
    },
    {
     "data": {
      "application/vnd.jupyter.widget-view+json": {
       "model_id": "e89db16783fa4375a27d6aee83eef8c3",
       "version_major": 2,
       "version_minor": 0
      },
      "text/plain": [
       "train:   0%|          | 0/600 [00:00<?, ?it/s]"
      ]
     },
     "metadata": {},
     "output_type": "display_data"
    },
    {
     "data": {
      "application/vnd.jupyter.widget-view+json": {
       "model_id": "05b30702e87b46e89529839954d977be",
       "version_major": 2,
       "version_minor": 0
      },
      "text/plain": [
       "valid:   0%|          | 0/600 [00:00<?, ?it/s]"
      ]
     },
     "metadata": {},
     "output_type": "display_data"
    },
    {
     "name": "stdout",
     "output_type": "stream",
     "text": [
      "\n",
      "                === 3th Epoch ===\n",
      "    \n",
      "        Train Loss : 2.966 | Train Acc : 0.289\n",
      "        Valid Loss : 2.652 | Valid Acc : 0.346\n",
      "        \n",
      "        ============================================\n",
      "        ============================================\n",
      "    \n"
     ]
    },
    {
     "data": {
      "application/vnd.jupyter.widget-view+json": {
       "model_id": "0a0ce42a16f9492497ead4e05fe783b9",
       "version_major": 2,
       "version_minor": 0
      },
      "text/plain": [
       "train:   0%|          | 0/600 [00:00<?, ?it/s]"
      ]
     },
     "metadata": {},
     "output_type": "display_data"
    },
    {
     "data": {
      "application/vnd.jupyter.widget-view+json": {
       "model_id": "6044c8105d254979a52c63db4868e9ce",
       "version_major": 2,
       "version_minor": 0
      },
      "text/plain": [
       "valid:   0%|          | 0/600 [00:00<?, ?it/s]"
      ]
     },
     "metadata": {},
     "output_type": "display_data"
    },
    {
     "name": "stdout",
     "output_type": "stream",
     "text": [
      "\n",
      "                === 4th Epoch ===\n",
      "    \n",
      "        Train Loss : 2.725 | Train Acc : 0.333\n",
      "        Valid Loss : 2.35 | Valid Acc : 0.405\n",
      "        \n",
      "        ============================================\n",
      "        ============================================\n",
      "    \n"
     ]
    },
    {
     "data": {
      "application/vnd.jupyter.widget-view+json": {
       "model_id": "ac719357fc624155b7c84d9b1fd2bb94",
       "version_major": 2,
       "version_minor": 0
      },
      "text/plain": [
       "train:   0%|          | 0/600 [00:00<?, ?it/s]"
      ]
     },
     "metadata": {},
     "output_type": "display_data"
    },
    {
     "data": {
      "application/vnd.jupyter.widget-view+json": {
       "model_id": "9423563da52f48648f2f1b2c5650b42d",
       "version_major": 2,
       "version_minor": 0
      },
      "text/plain": [
       "valid:   0%|          | 0/600 [00:00<?, ?it/s]"
      ]
     },
     "metadata": {},
     "output_type": "display_data"
    },
    {
     "name": "stdout",
     "output_type": "stream",
     "text": [
      "\n",
      "                === 5th Epoch ===\n",
      "    \n",
      "        Train Loss : 2.492 | Train Acc : 0.379\n",
      "        Valid Loss : 2.074 | Valid Acc : 0.461\n",
      "        \n",
      "        ============================================\n",
      "        ============================================\n",
      "    \n"
     ]
    },
    {
     "data": {
      "application/vnd.jupyter.widget-view+json": {
       "model_id": "4ea9f1dc09c14397a6274a5f9ac7aadd",
       "version_major": 2,
       "version_minor": 0
      },
      "text/plain": [
       "train:   0%|          | 0/600 [00:00<?, ?it/s]"
      ]
     },
     "metadata": {},
     "output_type": "display_data"
    },
    {
     "data": {
      "application/vnd.jupyter.widget-view+json": {
       "model_id": "1430a2b2a2ce4bd4a20891af2387736f",
       "version_major": 2,
       "version_minor": 0
      },
      "text/plain": [
       "valid:   0%|          | 0/600 [00:00<?, ?it/s]"
      ]
     },
     "metadata": {},
     "output_type": "display_data"
    },
    {
     "name": "stdout",
     "output_type": "stream",
     "text": [
      "\n",
      "                === 6th Epoch ===\n",
      "    \n",
      "        Train Loss : 2.187 | Train Acc : 0.44\n",
      "        Valid Loss : 1.639 | Valid Acc : 0.561\n",
      "        \n",
      "        ============================================\n",
      "        ============================================\n",
      "    \n"
     ]
    },
    {
     "data": {
      "application/vnd.jupyter.widget-view+json": {
       "model_id": "f479ada825e9405eb2f80f82b784256d",
       "version_major": 2,
       "version_minor": 0
      },
      "text/plain": [
       "train:   0%|          | 0/600 [00:00<?, ?it/s]"
      ]
     },
     "metadata": {},
     "output_type": "display_data"
    },
    {
     "data": {
      "application/vnd.jupyter.widget-view+json": {
       "model_id": "ee94662a2a20407a80da388153a3d47a",
       "version_major": 2,
       "version_minor": 0
      },
      "text/plain": [
       "valid:   0%|          | 0/600 [00:00<?, ?it/s]"
      ]
     },
     "metadata": {},
     "output_type": "display_data"
    },
    {
     "name": "stdout",
     "output_type": "stream",
     "text": [
      "\n",
      "                === 7th Epoch ===\n",
      "    \n",
      "        Train Loss : 1.818 | Train Acc : 0.519\n",
      "        Valid Loss : 1.154 | Valid Acc : 0.683\n",
      "        \n",
      "        ============================================\n",
      "        ============================================\n",
      "    \n"
     ]
    },
    {
     "data": {
      "application/vnd.jupyter.widget-view+json": {
       "model_id": "5c9ede463bf943dfb9f9bed7061abd80",
       "version_major": 2,
       "version_minor": 0
      },
      "text/plain": [
       "train:   0%|          | 0/600 [00:00<?, ?it/s]"
      ]
     },
     "metadata": {},
     "output_type": "display_data"
    },
    {
     "data": {
      "application/vnd.jupyter.widget-view+json": {
       "model_id": "b5bcf0c555bf4596852d6138b09a8d82",
       "version_major": 2,
       "version_minor": 0
      },
      "text/plain": [
       "valid:   0%|          | 0/600 [00:00<?, ?it/s]"
      ]
     },
     "metadata": {},
     "output_type": "display_data"
    },
    {
     "name": "stdout",
     "output_type": "stream",
     "text": [
      "\n",
      "                === 8th Epoch ===\n",
      "    \n",
      "        Train Loss : 1.334 | Train Acc : 0.631\n",
      "        Valid Loss : 0.719 | Valid Acc : 0.792\n",
      "        \n",
      "        ============================================\n",
      "        ============================================\n",
      "    \n"
     ]
    },
    {
     "data": {
      "application/vnd.jupyter.widget-view+json": {
       "model_id": "336ae90e9cdf41b299dd454a72597ba9",
       "version_major": 2,
       "version_minor": 0
      },
      "text/plain": [
       "train:   0%|          | 0/600 [00:00<?, ?it/s]"
      ]
     },
     "metadata": {},
     "output_type": "display_data"
    },
    {
     "data": {
      "application/vnd.jupyter.widget-view+json": {
       "model_id": "0bc93b52812440b88c845f5c020e6ed3",
       "version_major": 2,
       "version_minor": 0
      },
      "text/plain": [
       "valid:   0%|          | 0/600 [00:00<?, ?it/s]"
      ]
     },
     "metadata": {},
     "output_type": "display_data"
    },
    {
     "name": "stdout",
     "output_type": "stream",
     "text": [
      "\n",
      "                === 9th Epoch ===\n",
      "    \n",
      "        Train Loss : 0.857 | Train Acc : 0.751\n",
      "        Valid Loss : 0.434 | Valid Acc : 0.869\n",
      "        \n",
      "        ============================================\n",
      "        ============================================\n",
      "    \n"
     ]
    },
    {
     "data": {
      "application/vnd.jupyter.widget-view+json": {
       "model_id": "0de264cc0fec47e6a375281a837b0fee",
       "version_major": 2,
       "version_minor": 0
      },
      "text/plain": [
       "train:   0%|          | 0/600 [00:00<?, ?it/s]"
      ]
     },
     "metadata": {},
     "output_type": "display_data"
    },
    {
     "data": {
      "application/vnd.jupyter.widget-view+json": {
       "model_id": "c6bd4f0a32c740758d430e5923112264",
       "version_major": 2,
       "version_minor": 0
      },
      "text/plain": [
       "valid:   0%|          | 0/600 [00:00<?, ?it/s]"
      ]
     },
     "metadata": {},
     "output_type": "display_data"
    },
    {
     "name": "stdout",
     "output_type": "stream",
     "text": [
      "\n",
      "                === 10th Epoch ===\n",
      "    \n",
      "        Train Loss : 0.557 | Train Acc : 0.832\n",
      "        Valid Loss : 0.342 | Valid Acc : 0.892\n",
      "        \n",
      "        ============================================\n",
      "        ============================================\n",
      "    \n"
     ]
    },
    {
     "data": {
      "application/vnd.jupyter.widget-view+json": {
       "model_id": "7b51ad7a11ae42d49bcdcbf3dd30f9c8",
       "version_major": 2,
       "version_minor": 0
      },
      "text/plain": [
       "train:   0%|          | 0/600 [00:00<?, ?it/s]"
      ]
     },
     "metadata": {},
     "output_type": "display_data"
    },
    {
     "data": {
      "application/vnd.jupyter.widget-view+json": {
       "model_id": "b41d12df5dbc42fc9947661b21070598",
       "version_major": 2,
       "version_minor": 0
      },
      "text/plain": [
       "valid:   0%|          | 0/600 [00:00<?, ?it/s]"
      ]
     },
     "metadata": {},
     "output_type": "display_data"
    },
    {
     "name": "stdout",
     "output_type": "stream",
     "text": [
      "\n",
      "                === 11th Epoch ===\n",
      "    \n",
      "        Train Loss : 0.464 | Train Acc : 0.859\n",
      "        Valid Loss : 0.356 | Valid Acc : 0.89\n",
      "        \n",
      "        ============================================\n",
      "        ============================================\n",
      "    \n"
     ]
    },
    {
     "data": {
      "application/vnd.jupyter.widget-view+json": {
       "model_id": "ef2e96f7f9794298bab48994a7ab1895",
       "version_major": 2,
       "version_minor": 0
      },
      "text/plain": [
       "train:   0%|          | 0/600 [00:00<?, ?it/s]"
      ]
     },
     "metadata": {},
     "output_type": "display_data"
    },
    {
     "data": {
      "application/vnd.jupyter.widget-view+json": {
       "model_id": "38724ab870c14e3cb6a871e0e281cc0b",
       "version_major": 2,
       "version_minor": 0
      },
      "text/plain": [
       "valid:   0%|          | 0/600 [00:00<?, ?it/s]"
      ]
     },
     "metadata": {},
     "output_type": "display_data"
    },
    {
     "name": "stdout",
     "output_type": "stream",
     "text": [
      "\n",
      "                === 12th Epoch ===\n",
      "    \n",
      "        Train Loss : 0.414 | Train Acc : 0.876\n",
      "        Valid Loss : 0.307 | Valid Acc : 0.906\n",
      "        \n",
      "        ============================================\n",
      "        ============================================\n",
      "    \n"
     ]
    },
    {
     "data": {
      "application/vnd.jupyter.widget-view+json": {
       "model_id": "b9b678c6ad9d4c8a84b5d2cca7dc21bc",
       "version_major": 2,
       "version_minor": 0
      },
      "text/plain": [
       "train:   0%|          | 0/600 [00:00<?, ?it/s]"
      ]
     },
     "metadata": {},
     "output_type": "display_data"
    },
    {
     "data": {
      "application/vnd.jupyter.widget-view+json": {
       "model_id": "751e60d85bae4440b232947f540c2d26",
       "version_major": 2,
       "version_minor": 0
      },
      "text/plain": [
       "valid:   0%|          | 0/600 [00:00<?, ?it/s]"
      ]
     },
     "metadata": {},
     "output_type": "display_data"
    },
    {
     "name": "stdout",
     "output_type": "stream",
     "text": [
      "\n",
      "                === 13th Epoch ===\n",
      "    \n",
      "        Train Loss : 0.398 | Train Acc : 0.885\n",
      "        Valid Loss : 0.279 | Valid Acc : 0.916\n",
      "        \n",
      "        ============================================\n",
      "        ============================================\n",
      "    \n"
     ]
    },
    {
     "data": {
      "application/vnd.jupyter.widget-view+json": {
       "model_id": "34f2299256874ba1bc8f1ae2ba7d79c9",
       "version_major": 2,
       "version_minor": 0
      },
      "text/plain": [
       "train:   0%|          | 0/600 [00:00<?, ?it/s]"
      ]
     },
     "metadata": {},
     "output_type": "display_data"
    },
    {
     "data": {
      "application/vnd.jupyter.widget-view+json": {
       "model_id": "4892923f78794b66a08ece0f606a2e7b",
       "version_major": 2,
       "version_minor": 0
      },
      "text/plain": [
       "valid:   0%|          | 0/600 [00:00<?, ?it/s]"
      ]
     },
     "metadata": {},
     "output_type": "display_data"
    },
    {
     "name": "stdout",
     "output_type": "stream",
     "text": [
      "\n",
      "                === 14th Epoch ===\n",
      "    \n",
      "        Train Loss : 0.37 | Train Acc : 0.894\n",
      "        Valid Loss : 0.318 | Valid Acc : 0.908\n",
      "        \n",
      "        ============================================\n",
      "        ============================================\n",
      "    \n"
     ]
    },
    {
     "data": {
      "application/vnd.jupyter.widget-view+json": {
       "model_id": "edd3c825aeda42ca9ddba646259e7479",
       "version_major": 2,
       "version_minor": 0
      },
      "text/plain": [
       "train:   0%|          | 0/600 [00:00<?, ?it/s]"
      ]
     },
     "metadata": {},
     "output_type": "display_data"
    },
    {
     "data": {
      "application/vnd.jupyter.widget-view+json": {
       "model_id": "5dfce35601c64b27ac3347dabf8c81ab",
       "version_major": 2,
       "version_minor": 0
      },
      "text/plain": [
       "valid:   0%|          | 0/600 [00:00<?, ?it/s]"
      ]
     },
     "metadata": {},
     "output_type": "display_data"
    },
    {
     "name": "stdout",
     "output_type": "stream",
     "text": [
      "\n",
      "                === 15th Epoch ===\n",
      "    \n",
      "        Train Loss : 0.346 | Train Acc : 0.901\n",
      "        Valid Loss : 0.261 | Valid Acc : 0.924\n",
      "        \n",
      "        ============================================\n",
      "        ============================================\n",
      "    \n"
     ]
    },
    {
     "data": {
      "application/vnd.jupyter.widget-view+json": {
       "model_id": "ace276b4663949618f2b0d39b5f7e846",
       "version_major": 2,
       "version_minor": 0
      },
      "text/plain": [
       "train:   0%|          | 0/600 [00:00<?, ?it/s]"
      ]
     },
     "metadata": {},
     "output_type": "display_data"
    },
    {
     "data": {
      "application/vnd.jupyter.widget-view+json": {
       "model_id": "24d9985276a84a059b7fb0eedba4f432",
       "version_major": 2,
       "version_minor": 0
      },
      "text/plain": [
       "valid:   0%|          | 0/600 [00:00<?, ?it/s]"
      ]
     },
     "metadata": {},
     "output_type": "display_data"
    },
    {
     "name": "stdout",
     "output_type": "stream",
     "text": [
      "\n",
      "                === 16th Epoch ===\n",
      "    \n",
      "        Train Loss : 0.339 | Train Acc : 0.908\n",
      "        Valid Loss : 0.249 | Valid Acc : 0.927\n",
      "        \n",
      "        ============================================\n",
      "        ============================================\n",
      "    \n"
     ]
    },
    {
     "data": {
      "application/vnd.jupyter.widget-view+json": {
       "model_id": "0b46012b44384761a3cf270903f81c11",
       "version_major": 2,
       "version_minor": 0
      },
      "text/plain": [
       "train:   0%|          | 0/600 [00:00<?, ?it/s]"
      ]
     },
     "metadata": {},
     "output_type": "display_data"
    },
    {
     "data": {
      "application/vnd.jupyter.widget-view+json": {
       "model_id": "d96ab32ffbb04b56968d1753395e9f29",
       "version_major": 2,
       "version_minor": 0
      },
      "text/plain": [
       "valid:   0%|          | 0/600 [00:00<?, ?it/s]"
      ]
     },
     "metadata": {},
     "output_type": "display_data"
    },
    {
     "name": "stdout",
     "output_type": "stream",
     "text": [
      "\n",
      "                === 17th Epoch ===\n",
      "    \n",
      "        Train Loss : 0.351 | Train Acc : 0.907\n",
      "        Valid Loss : 0.273 | Valid Acc : 0.926\n",
      "        \n",
      "        ============================================\n",
      "        ============================================\n",
      "    \n"
     ]
    },
    {
     "data": {
      "application/vnd.jupyter.widget-view+json": {
       "model_id": "cd40bb843ff34df4ada130a3c353b419",
       "version_major": 2,
       "version_minor": 0
      },
      "text/plain": [
       "train:   0%|          | 0/600 [00:00<?, ?it/s]"
      ]
     },
     "metadata": {},
     "output_type": "display_data"
    },
    {
     "data": {
      "application/vnd.jupyter.widget-view+json": {
       "model_id": "c58cb91eb7ae438eb369dd194d061c40",
       "version_major": 2,
       "version_minor": 0
      },
      "text/plain": [
       "valid:   0%|          | 0/600 [00:00<?, ?it/s]"
      ]
     },
     "metadata": {},
     "output_type": "display_data"
    },
    {
     "name": "stdout",
     "output_type": "stream",
     "text": [
      "\n",
      "                === 18th Epoch ===\n",
      "    \n",
      "        Train Loss : 0.336 | Train Acc : 0.912\n",
      "        Valid Loss : 0.236 | Valid Acc : 0.936\n",
      "        \n",
      "        ============================================\n",
      "        ============================================\n",
      "    \n"
     ]
    },
    {
     "data": {
      "application/vnd.jupyter.widget-view+json": {
       "model_id": "19c5df0575b34076a88005a059322289",
       "version_major": 2,
       "version_minor": 0
      },
      "text/plain": [
       "train:   0%|          | 0/600 [00:00<?, ?it/s]"
      ]
     },
     "metadata": {},
     "output_type": "display_data"
    },
    {
     "data": {
      "application/vnd.jupyter.widget-view+json": {
       "model_id": "425bb89dcb3b47489f32d69bedfd6c2b",
       "version_major": 2,
       "version_minor": 0
      },
      "text/plain": [
       "valid:   0%|          | 0/600 [00:00<?, ?it/s]"
      ]
     },
     "metadata": {},
     "output_type": "display_data"
    },
    {
     "name": "stdout",
     "output_type": "stream",
     "text": [
      "\n",
      "                === 19th Epoch ===\n",
      "    \n",
      "        Train Loss : 0.3 | Train Acc : 0.922\n",
      "        Valid Loss : 0.226 | Valid Acc : 0.94\n",
      "        \n",
      "        ============================================\n",
      "        ============================================\n",
      "    \n"
     ]
    },
    {
     "data": {
      "application/vnd.jupyter.widget-view+json": {
       "model_id": "3d8e741f55124a4eb5680b4bcf83e771",
       "version_major": 2,
       "version_minor": 0
      },
      "text/plain": [
       "train:   0%|          | 0/600 [00:00<?, ?it/s]"
      ]
     },
     "metadata": {},
     "output_type": "display_data"
    },
    {
     "data": {
      "application/vnd.jupyter.widget-view+json": {
       "model_id": "3dbb723d5ddb40c5a8507af52bd076fd",
       "version_major": 2,
       "version_minor": 0
      },
      "text/plain": [
       "valid:   0%|          | 0/600 [00:00<?, ?it/s]"
      ]
     },
     "metadata": {},
     "output_type": "display_data"
    },
    {
     "name": "stdout",
     "output_type": "stream",
     "text": [
      "\n",
      "                === 20th Epoch ===\n",
      "    \n",
      "        Train Loss : 0.322 | Train Acc : 0.92\n",
      "        Valid Loss : 0.26 | Valid Acc : 0.933\n",
      "        \n",
      "        ============================================\n",
      "        ============================================\n",
      "    \n"
     ]
    }
   ],
   "source": [
    "epoches = 20\n",
    "\n",
    "for proc in range(epoches) : \n",
    "    t_acc, t_loss = train()\n",
    "    v_acc, v_loss = evalulate()\n",
    "    print(f\"\"\"\n",
    "                === {proc+1}th Epoch ===\n",
    "    \n",
    "        Train Loss : {round(t_loss, 3)} | Train Acc : {round(t_acc, 3)}\n",
    "        Valid Loss : {round(v_loss, 3)} | Valid Acc : {round(v_acc, 3)}\n",
    "        \n",
    "        ============================================\n",
    "        ============================================\n",
    "    \"\"\")"
   ]
  },
  {
   "cell_type": "code",
   "execution_count": null,
   "metadata": {},
   "outputs": [],
   "source": []
  }
 ],
 "metadata": {
  "kernelspec": {
   "display_name": "Python 3",
   "language": "python",
   "name": "python3"
  },
  "language_info": {
   "codemirror_mode": {
    "name": "ipython",
    "version": 3
   },
   "file_extension": ".py",
   "mimetype": "text/x-python",
   "name": "python",
   "nbconvert_exporter": "python",
   "pygments_lexer": "ipython3",
   "version": "3.8.5"
  }
 },
 "nbformat": 4,
 "nbformat_minor": 4
}
